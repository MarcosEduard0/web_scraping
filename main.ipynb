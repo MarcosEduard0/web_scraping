{
 "cells": [
  {
   "cell_type": "code",
   "execution_count": 1,
   "metadata": {},
   "outputs": [],
   "source": [
    "from selenium import webdriver\n",
    "from selenium.webdriver.common.by import By\n",
    "from selenium.webdriver.support import expected_conditions as EC\n",
    "from selenium.webdriver.support.wait import WebDriverWait\n",
    "from selenium.webdriver.support.ui import Select\n",
    "from time import sleep\n",
    "from urllib.parse import quote\n",
    "import threading\n",
    "from queue import Queue\n",
    "import pandas as pd"
   ]
  },
  {
   "cell_type": "code",
   "execution_count": 2,
   "metadata": {},
   "outputs": [],
   "source": [
    "def get_href(elements):\n",
    "    hrefs = []\n",
    "    for elemento in elements:\n",
    "        href = elemento.get_attribute('href')\n",
    "        hrefs.append(href)\n",
    "\n",
    "    return hrefs\n",
    "\n",
    "def consultar(navegador, beneficio, start_date, end_date, municipio = 'Tanguá'):\n",
    "    municipio = quote(municipio)\n",
    "    navegador.get(f'https://portaldatransparencia.gov.br/beneficios/{beneficio}?de={start_date}&ate={end_date}&nomeMunicipio={municipio}&ordenarPor=nis&direcao=asc')\n",
    "\n",
    "def consultar_Bolsa_Familia(navegador, beneficio, start_date, end_date, municipio = 'Tanguá'):\n",
    "    # start_date = quote(start_date, safe='')\n",
    "    # end_date = quote(end_date, safe='')\n",
    "    municipio = quote(municipio)\n",
    "    return f'https://portaldatransparencia.gov.br/beneficios/{beneficio}?de={start_date}&ate={end_date}&tipoBeneficio=1&nomeMunicipio={municipio}&ordenarPor=nis&direcao=asc'\n"
   ]
  },
  {
   "cell_type": "code",
   "execution_count": 3,
   "metadata": {},
   "outputs": [],
   "source": [
    "driver = webdriver.Chrome()\n",
    "consultar(driver,'bolsa-familia', '01/01/2019', '31/12/2019', 'Tanguá')\n",
    "# inicia a pagian e espera 10 segundos para os dados carregarem\n",
    "sleep(5)\n",
    "\n",
    "# Clica no botão de ver paginação completa\n",
    "# driver.find_element(By.XPATH, '//*[@id=\"lista_wrapper\"]/div/div[3]/div[3]/button').click()\n",
    "driver.find_element(By.CLASS_NAME, 'botao__gera_paginacao_completa').click()\n",
    "\n",
    "\n",
    "\n",
    "# Clica no select para aumentar o numero de dados na pagina\n",
    "elemento_dropdown  = driver.find_element(By.XPATH, '//*[@id=\"lista_length\"]/label/select')\n",
    "Select(elemento_dropdown).select_by_value('50')\n",
    "\n",
    "sleep(5)\n",
    "# Verifica quantas paginas possuem\n",
    "quantPaginas = driver.find_element(By.XPATH, '//*[@id=\"lista_info\"]').text.split()[-1]\n",
    "\n",
    "# Crie uma lista para armazenar os valores de atributo href\n",
    "hrefs = []\n",
    "\n",
    "for i in range(int(quantPaginas)):\n",
    "    # Busca os lnks detalhar\n",
    "    elements = driver.find_elements(By.CLASS_NAME, 'linkRendered')\n",
    "\n",
    "    # Itere sobre cada elemento e obtenha o valor do atributo href\n",
    "    hrefs.extend(get_href(elements))\n",
    "\n",
    "    # Clica no botão proximo  \n",
    "    driver.find_element(By.ID, 'lista_next').click()\n",
    "\n",
    "    \n",
    "    sleep(7)\n",
    "\n",
    "driver.quit()"
   ]
  },
  {
   "cell_type": "code",
   "execution_count": 6,
   "metadata": {},
   "outputs": [
    {
     "data": {
      "text/plain": [
       "'https://portaldatransparencia.gov.br/beneficios/bolsa-familia/292355502'"
      ]
     },
     "execution_count": 6,
     "metadata": {},
     "output_type": "execute_result"
    }
   ],
   "source": [
    "hrefs[-1]"
   ]
  },
  {
   "cell_type": "code",
   "execution_count": 18,
   "metadata": {},
   "outputs": [],
   "source": [
    "df = pd.DataFrame(hrefs, columns=['Detalhes_link'])"
   ]
  },
  {
   "attachments": {},
   "cell_type": "markdown",
   "metadata": {},
   "source": [
    "# Teste Threads"
   ]
  },
  {
   "cell_type": "code",
   "execution_count": 4,
   "metadata": {},
   "outputs": [],
   "source": [
    "def getQuantPaginas():\n",
    "    driver = webdriver.Chrome()\n",
    "    consultar(driver,'bolsa-familia', '01/01/2016', '31/12/2016', 'Tanguá')\n",
    "    # inicia a pagian e espera 10 segundos para os dados carregarem\n",
    "    sleep(5)\n",
    "\n",
    "    # Clica no botão de ver paginação completa\n",
    "    # driver.find_element(By.XPATH, '//*[@id=\"lista_wrapper\"]/div/div[3]/div[3]/button').click()\n",
    "    driver.find_element(By.CLASS_NAME, 'botao__gera_paginacao_completa').click()\n",
    "\n",
    "\n",
    "\n",
    "    # Clica no select para aumentar o numero de dados na pagina\n",
    "    elemento_dropdown  = driver.find_element(By.XPATH, '//*[@id=\"lista_length\"]/label/select')\n",
    "    Select(elemento_dropdown).select_by_value('50')\n",
    "\n",
    "    sleep(5)\n",
    "    # Verifica quantas paginas possuem\n",
    "    quantPaginas = driver.find_element(By.XPATH, '//*[@id=\"lista_info\"]').text.split()[-1]\n",
    "    driver.quit()\n",
    "    return int(quantPaginas)"
   ]
  },
  {
   "cell_type": "code",
   "execution_count": null,
   "metadata": {},
   "outputs": [],
   "source": [
    "# Função que será executada em cada thread\n",
    "def coletar_dados(start_page, end_page, beneficio, start_date, end_date, municipio='Tanguá'):\n",
    "    driver = webdriver.Chrome()\n",
    "    driver.execute_script(\"window.open('about:blank', 'new_tab');\")\n",
    "    driver.switch_to.window(driver.window_handles[-1])\n",
    "    consultar(driver, beneficio, start_date, end_date, municipio)\n",
    "    \n",
    "    try:\n",
    "        element = WebDriverWait(driver, 10).until(\n",
    "            EC.presence_of_element_located((By.CLASS_NAME, 'botao__gera_paginacao_completa'))\n",
    "        )\n",
    "    finally:\n",
    "        driver.find_element(By.CLASS_NAME, 'botao__gera_paginacao_completa').click()\n",
    "\n",
    "    sleep(5)\n",
    "    elemento_dropdown = driver.find_element(By.XPATH, '//*[@id=\"lista_length\"]/label/select')\n",
    "    Select(elemento_dropdown).select_by_value('50')\n",
    "\n",
    "    sleep(6)\n",
    "    driver.find_element(By.ID, 'paginas-selecao-1-lista').send_keys(start_page)\n",
    "    driver.find_element(By.ID, 'botao-ir-para-a-pagina-lista').click()\n",
    "    sleep(7)\n",
    "    hrefs = []\n",
    "    for _ in range(start_page, end_page + 1):\n",
    "        elements = driver.find_elements(By.CLASS_NAME, 'linkRendered')\n",
    "        hrefs.extend(get_href(elements))\n",
    "        driver.find_element(By.ID, 'lista_next').click()\n",
    "        sleep(10)\n",
    "\n",
    "    driver.quit()\n",
    "\n",
    "    if results_queue:\n",
    "        results_queue.put(hrefs)\n",
    "\n",
    "\n",
    "# Execução das threads\n",
    "beneficio = 'bolsa-familia'\n",
    "start_date = '01/01/2018'\n",
    "end_date = '31/12/2018'\n",
    "municipio = 'Tanguá'\n",
    "\n",
    "num_threads = 6\n",
    "quantPaginas = getQuantPaginas()\n",
    "pages_per_thread = quantPaginas // num_threads\n",
    "\n",
    "threads = []\n",
    "results_queue = Queue()\n",
    "\n",
    "for i in range(num_threads):\n",
    "    start_page = i * pages_per_thread + 1\n",
    "    end_page = start_page + pages_per_thread - 1 if i < num_threads - 1 else quantPaginas\n",
    "    thread = threading.Thread(target=coletar_dados, args=(start_page, end_page, beneficio, start_date, end_date, municipio))\n",
    "    threads.append(thread)\n",
    "    thread.start()\n",
    "\n",
    "for thread in threads:\n",
    "    thread.join()\n",
    "\n",
    "# Recupera os resultados das threads\n",
    "hrefs = []\n",
    "while not results_queue.empty():\n",
    "    hrefs.extend(results_queue.get())\n"
   ]
  },
  {
   "attachments": {},
   "cell_type": "markdown",
   "metadata": {},
   "source": [
    "# Teste de extrair quantidade da tabela"
   ]
  },
  {
   "cell_type": "code",
   "execution_count": 15,
   "metadata": {},
   "outputs": [
    {
     "name": "stdout",
     "output_type": "stream",
     "text": [
      "[[], ['10/2021', '10/2021', 'RJ', 'TANGUÁ', '2', '147,00'], ['09/2021', '09/2021', 'RJ', 'TANGUÁ', '2', '147,00'], ['08/2021', '08/2021', 'RJ', 'TANGUÁ', '2', '147,00'], ['07/2021', '07/2021', 'RJ', 'TANGUÁ', '1', '147,00'], ['06/2021', '06/2021', 'RJ', 'TANGUÁ', '1', '147,00'], ['05/2021', '05/2021', 'RJ', 'TANGUÁ', '2', '178,00'], ['04/2021', '04/2021', 'RJ', 'TANGUÁ', '2', '178,00'], ['03/2021', '03/2021', 'RJ', 'TANGUÁ', '2', '178,00'], ['02/2021', '02/2021', 'RJ', 'TANGUÁ', '2', '178,00'], ['01/2021', '01/2021', 'RJ', 'TANGUÁ', '2', '171,00'], ['12/2020', '12/2020', 'RJ', 'TANGUÁ', '3', '219,00'], ['11/2020', '11/2020', 'RJ', 'TANGUÁ', '3', '219,00'], ['10/2020', '10/2020', 'RJ', 'TANGUÁ', '3', '219,00'], ['09/2020', '09/2020', 'RJ', 'TANGUÁ', '3', '219,00'], ['08/2020', '08/2020', 'RJ', 'TANGUÁ', '2', '178,00']]\n"
     ]
    }
   ],
   "source": [
    "driver = webdriver.Chrome()\n",
    "\n",
    "driver.get('https://portaldatransparencia.gov.br/beneficios/bolsa-familia/293703902?ordenarPor=mesReferencia&direcao=desc')\n",
    "sleep(3)\n",
    "# Localize a tabela\n",
    "tabela = driver.find_element(By.ID, 'tabelaDetalheValoresRecebidos')\n",
    "\n",
    "# Obtenha todas as linhas da tabela\n",
    "linhas = tabela.find_elements(By.TAG_NAME, 'tr')\n",
    "\n",
    "\n",
    "dados = []\n",
    "\n",
    "# Itere sobre as linhas\n",
    "for linha in linhas:\n",
    "    # Obtenha todas as células da linha\n",
    "    celulas = linha.find_elements(By.TAG_NAME, 'td')\n",
    "    \n",
    "    # Extraia os dados das células\n",
    "    dados_linha = [celula.text for celula in celulas]\n",
    "    \n",
    "    # Armazene os dados\n",
    "    dados.append(dados_linha)\n",
    "\n",
    "# Feche o navegador\n",
    "# driver.quit()\n",
    "\n",
    "# Faça algo com os dados coletados\n",
    "print(dados)\n"
   ]
  },
  {
   "cell_type": "code",
   "execution_count": 16,
   "metadata": {},
   "outputs": [
    {
     "data": {
      "text/plain": [
       "[[],\n",
       " ['10/2021', '10/2021', 'RJ', 'TANGUÁ', '2', '147,00'],\n",
       " ['09/2021', '09/2021', 'RJ', 'TANGUÁ', '2', '147,00'],\n",
       " ['08/2021', '08/2021', 'RJ', 'TANGUÁ', '2', '147,00'],\n",
       " ['07/2021', '07/2021', 'RJ', 'TANGUÁ', '1', '147,00'],\n",
       " ['06/2021', '06/2021', 'RJ', 'TANGUÁ', '1', '147,00'],\n",
       " ['05/2021', '05/2021', 'RJ', 'TANGUÁ', '2', '178,00'],\n",
       " ['04/2021', '04/2021', 'RJ', 'TANGUÁ', '2', '178,00'],\n",
       " ['03/2021', '03/2021', 'RJ', 'TANGUÁ', '2', '178,00'],\n",
       " ['02/2021', '02/2021', 'RJ', 'TANGUÁ', '2', '178,00'],\n",
       " ['01/2021', '01/2021', 'RJ', 'TANGUÁ', '2', '171,00'],\n",
       " ['12/2020', '12/2020', 'RJ', 'TANGUÁ', '3', '219,00'],\n",
       " ['11/2020', '11/2020', 'RJ', 'TANGUÁ', '3', '219,00'],\n",
       " ['10/2020', '10/2020', 'RJ', 'TANGUÁ', '3', '219,00'],\n",
       " ['09/2020', '09/2020', 'RJ', 'TANGUÁ', '3', '219,00'],\n",
       " ['08/2020', '08/2020', 'RJ', 'TANGUÁ', '2', '178,00']]"
      ]
     },
     "execution_count": 16,
     "metadata": {},
     "output_type": "execute_result"
    }
   ],
   "source": [
    "dados"
   ]
  },
  {
   "cell_type": "code",
   "execution_count": 14,
   "metadata": {},
   "outputs": [
    {
     "data": {
      "text/plain": [
       "16"
      ]
     },
     "execution_count": 14,
     "metadata": {},
     "output_type": "execute_result"
    }
   ],
   "source": [
    "len(linhas)"
   ]
  },
  {
   "attachments": {},
   "cell_type": "markdown",
   "metadata": {},
   "source": [
    "# Tratamento"
   ]
  },
  {
   "cell_type": "code",
   "execution_count": 23,
   "metadata": {},
   "outputs": [
    {
     "data": {
      "text/html": [
       "<div>\n",
       "<style scoped>\n",
       "    .dataframe tbody tr th:only-of-type {\n",
       "        vertical-align: middle;\n",
       "    }\n",
       "\n",
       "    .dataframe tbody tr th {\n",
       "        vertical-align: top;\n",
       "    }\n",
       "\n",
       "    .dataframe thead th {\n",
       "        text-align: right;\n",
       "    }\n",
       "</style>\n",
       "<table border=\"1\" class=\"dataframe\">\n",
       "  <thead>\n",
       "    <tr style=\"text-align: right;\">\n",
       "      <th></th>\n",
       "      <th>Unnamed</th>\n",
       "      <th>Detalhes_link</th>\n",
       "    </tr>\n",
       "  </thead>\n",
       "  <tbody>\n",
       "    <tr>\n",
       "      <th>0</th>\n",
       "      <td>0</td>\n",
       "      <td>https://portaldatransparencia.gov.br/beneficio...</td>\n",
       "    </tr>\n",
       "    <tr>\n",
       "      <th>1</th>\n",
       "      <td>1</td>\n",
       "      <td>https://portaldatransparencia.gov.br/beneficio...</td>\n",
       "    </tr>\n",
       "    <tr>\n",
       "      <th>2</th>\n",
       "      <td>2</td>\n",
       "      <td>https://portaldatransparencia.gov.br/beneficio...</td>\n",
       "    </tr>\n",
       "    <tr>\n",
       "      <th>3</th>\n",
       "      <td>3</td>\n",
       "      <td>https://portaldatransparencia.gov.br/beneficio...</td>\n",
       "    </tr>\n",
       "    <tr>\n",
       "      <th>4</th>\n",
       "      <td>4</td>\n",
       "      <td>https://portaldatransparencia.gov.br/beneficio...</td>\n",
       "    </tr>\n",
       "    <tr>\n",
       "      <th>...</th>\n",
       "      <td>...</td>\n",
       "      <td>...</td>\n",
       "    </tr>\n",
       "    <tr>\n",
       "      <th>40138</th>\n",
       "      <td>40138</td>\n",
       "      <td>https://portaldatransparencia.gov.br/beneficio...</td>\n",
       "    </tr>\n",
       "    <tr>\n",
       "      <th>40139</th>\n",
       "      <td>40139</td>\n",
       "      <td>https://portaldatransparencia.gov.br/beneficio...</td>\n",
       "    </tr>\n",
       "    <tr>\n",
       "      <th>40140</th>\n",
       "      <td>40140</td>\n",
       "      <td>https://portaldatransparencia.gov.br/beneficio...</td>\n",
       "    </tr>\n",
       "    <tr>\n",
       "      <th>40141</th>\n",
       "      <td>40141</td>\n",
       "      <td>https://portaldatransparencia.gov.br/beneficio...</td>\n",
       "    </tr>\n",
       "    <tr>\n",
       "      <th>40142</th>\n",
       "      <td>40142</td>\n",
       "      <td>https://portaldatransparencia.gov.br/beneficio...</td>\n",
       "    </tr>\n",
       "  </tbody>\n",
       "</table>\n",
       "<p>40143 rows × 2 columns</p>\n",
       "</div>"
      ],
      "text/plain": [
       "       Unnamed                                      Detalhes_link\n",
       "0            0  https://portaldatransparencia.gov.br/beneficio...\n",
       "1            1  https://portaldatransparencia.gov.br/beneficio...\n",
       "2            2  https://portaldatransparencia.gov.br/beneficio...\n",
       "3            3  https://portaldatransparencia.gov.br/beneficio...\n",
       "4            4  https://portaldatransparencia.gov.br/beneficio...\n",
       "...        ...                                                ...\n",
       "40138    40138  https://portaldatransparencia.gov.br/beneficio...\n",
       "40139    40139  https://portaldatransparencia.gov.br/beneficio...\n",
       "40140    40140  https://portaldatransparencia.gov.br/beneficio...\n",
       "40141    40141  https://portaldatransparencia.gov.br/beneficio...\n",
       "40142    40142  https://portaldatransparencia.gov.br/beneficio...\n",
       "\n",
       "[40143 rows x 2 columns]"
      ]
     },
     "execution_count": 23,
     "metadata": {},
     "output_type": "execute_result"
    }
   ],
   "source": [
    "df = pd.read_csv('2019.csv')\n",
    "df"
   ]
  },
  {
   "cell_type": "code",
   "execution_count": 26,
   "metadata": {},
   "outputs": [],
   "source": [
    "df.drop(['Unnamed'],axis=1, inplace=True)"
   ]
  },
  {
   "cell_type": "code",
   "execution_count": 27,
   "metadata": {},
   "outputs": [],
   "source": [
    "# df.reset_index(drop=True, inplace=True)\n",
    "df.drop_duplicates(inplace=True)\n",
    "df.reset_index(drop=True,inplace=True)\n",
    "df.to_csv('bolsa-familia-2019.csv')"
   ]
  }
 ],
 "metadata": {
  "kernelspec": {
   "display_name": "Python 3",
   "language": "python",
   "name": "python3"
  },
  "language_info": {
   "codemirror_mode": {
    "name": "ipython",
    "version": 3
   },
   "file_extension": ".py",
   "mimetype": "text/x-python",
   "name": "python",
   "nbconvert_exporter": "python",
   "pygments_lexer": "ipython3",
   "version": "3.9.4"
  },
  "orig_nbformat": 4
 },
 "nbformat": 4,
 "nbformat_minor": 2
}
