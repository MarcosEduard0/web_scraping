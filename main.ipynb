{
 "cells": [
  {
   "cell_type": "code",
   "execution_count": 1,
   "metadata": {},
   "outputs": [],
   "source": [
    "from selenium import webdriver\n",
    "from selenium.webdriver.common.by import By\n",
    "from selenium.webdriver.support import expected_conditions as EC\n",
    "from selenium.webdriver.support.wait import WebDriverWait\n",
    "from selenium.webdriver.support.ui import Select\n",
    "from time import sleep\n",
    "from urllib.parse import quote\n",
    "import threading\n",
    "from queue import Queue\n",
    "import pandas as pd"
   ]
  },
  {
   "cell_type": "code",
   "execution_count": 2,
   "metadata": {},
   "outputs": [],
   "source": [
    "def get_href(elements):\n",
    "    hrefs = []\n",
    "    for elemento in elements:\n",
    "        href = elemento.get_attribute('href')\n",
    "        hrefs.append(href)\n",
    "\n",
    "    return hrefs\n",
    "\n",
    "def consultar(navegador, beneficio, start_date, end_date, municipio = 'Tanguá'):\n",
    "    municipio = quote(municipio)\n",
    "    navegador.get(f'https://portaldatransparencia.gov.br/beneficios/{beneficio}?de={start_date}&ate={end_date}&nomeMunicipio={municipio}&ordenarPor=nis&direcao=asc')\n",
    "\n",
    "def consultar_Bolsa_Familia(navegador, beneficio, start_date, end_date, municipio = 'Tanguá'):\n",
    "    # start_date = quote(start_date, safe='')\n",
    "    # end_date = quote(end_date, safe='')\n",
    "    municipio = quote(municipio)\n",
    "    return f'https://portaldatransparencia.gov.br/beneficios/{beneficio}?de={start_date}&ate={end_date}&tipoBeneficio=1&nomeMunicipio={municipio}&ordenarPor=nis&direcao=asc'\n"
   ]
  },
  {
   "cell_type": "code",
   "execution_count": 6,
   "metadata": {},
   "outputs": [],
   "source": [
    "driver = webdriver.Chrome()\n",
    "consultar(driver,'bolsa-familia', '01/01/2016', '31/12/2016', 'Tanguá')\n",
    "# inicia a pagian e espera 10 segundos para os dados carregarem\n",
    "sleep(5)\n",
    "\n",
    "# Clica no botão de ver paginação completa\n",
    "# driver.find_element(By.XPATH, '//*[@id=\"lista_wrapper\"]/div/div[3]/div[3]/button').click()\n",
    "driver.find_element(By.CLASS_NAME, 'botao__gera_paginacao_completa').click()\n",
    "\n",
    "\n",
    "\n",
    "# Clica no select para aumentar o numero de dados na pagina\n",
    "elemento_dropdown  = driver.find_element(By.XPATH, '//*[@id=\"lista_length\"]/label/select')\n",
    "Select(elemento_dropdown).select_by_value('50')\n",
    "\n",
    "sleep(5)\n",
    "# Verifica quantas paginas possuem\n",
    "quantPaginas = driver.find_element(By.XPATH, '//*[@id=\"lista_info\"]').text.split()[-1]\n",
    "\n",
    "# Crie uma lista para armazenar os valores de atributo href\n",
    "hrefs = []\n",
    "\n",
    "for i in range(int(quantPaginas)):\n",
    "    # Busca os lnks detalhar\n",
    "    elements = driver.find_elements(By.CLASS_NAME, 'linkRendered')\n",
    "\n",
    "    # Itere sobre cada elemento e obtenha o valor do atributo href\n",
    "    hrefs.extend(get_href(elements))\n",
    "\n",
    "    # Clica no botão proximo  \n",
    "    driver.find_element(By.ID, 'lista_next').click()\n",
    "\n",
    "    \n",
    "    sleep(7)\n",
    "\n",
    "driver.quit()"
   ]
  },
  {
   "cell_type": "code",
   "execution_count": 43,
   "metadata": {},
   "outputs": [
    {
     "data": {
      "text/plain": [
       "'https://portaldatransparencia.gov.br/beneficios/bolsa-familia?de=01/01/2016&ate=31/12/2016&tipoBeneficio=1&nomeMunicipio=Tangu%C3%A1&ordenarPor=nis&direcao=asc'"
      ]
     },
     "execution_count": 43,
     "metadata": {},
     "output_type": "execute_result"
    }
   ],
   "source": [
    "# df = pd.DataFrame(hrefs, columns=['Detalhes_link'])"
   ]
  },
  {
   "cell_type": "code",
   "execution_count": 46,
   "metadata": {},
   "outputs": [],
   "source": [
    "# df.to_csv('2016.csv')"
   ]
  },
  {
   "attachments": {},
   "cell_type": "markdown",
   "metadata": {},
   "source": [
    "# Teste Threads"
   ]
  },
  {
   "cell_type": "code",
   "execution_count": 10,
   "metadata": {},
   "outputs": [],
   "source": [
    "def getQuantPaginas():\n",
    "    driver = webdriver.Chrome()\n",
    "    consultar(driver,'bolsa-familia', '01/01/2016', '31/12/2016', 'Tanguá')\n",
    "    # inicia a pagian e espera 10 segundos para os dados carregarem\n",
    "    sleep(5)\n",
    "\n",
    "    # Clica no botão de ver paginação completa\n",
    "    # driver.find_element(By.XPATH, '//*[@id=\"lista_wrapper\"]/div/div[3]/div[3]/button').click()\n",
    "    driver.find_element(By.CLASS_NAME, 'botao__gera_paginacao_completa').click()\n",
    "\n",
    "\n",
    "\n",
    "    # Clica no select para aumentar o numero de dados na pagina\n",
    "    elemento_dropdown  = driver.find_element(By.XPATH, '//*[@id=\"lista_length\"]/label/select')\n",
    "    Select(elemento_dropdown).select_by_value('50')\n",
    "\n",
    "    sleep(5)\n",
    "    # Verifica quantas paginas possuem\n",
    "    quantPaginas = driver.find_element(By.XPATH, '//*[@id=\"lista_info\"]').text.split()[-1]\n",
    "    driver.quit()\n",
    "    return int(quantPaginas)"
   ]
  },
  {
   "cell_type": "code",
   "execution_count": 11,
   "metadata": {},
   "outputs": [],
   "source": [
    "# Função que será executada em cada thread\n",
    "def coletar_dados(start_page, end_page, beneficio, start_date, end_date, municipio='Tanguá'):\n",
    "    driver = webdriver.Chrome()\n",
    "    driver.execute_script(\"window.open('about:blank', 'new_tab');\")\n",
    "    driver.switch_to.window(driver.window_handles[-1])\n",
    "    consultar(driver, beneficio, start_date, end_date, municipio)\n",
    "    \n",
    "    try:\n",
    "        element = WebDriverWait(driver, 10).until(\n",
    "            EC.presence_of_element_located((By.CLASS_NAME, 'botao__gera_paginacao_completa'))\n",
    "        )\n",
    "    finally:\n",
    "        driver.find_element(By.CLASS_NAME, 'botao__gera_paginacao_completa').click()\n",
    "\n",
    "    sleep(5)\n",
    "    elemento_dropdown = driver.find_element(By.XPATH, '//*[@id=\"lista_length\"]/label/select')\n",
    "    Select(elemento_dropdown).select_by_value('50')\n",
    "\n",
    "    sleep(4)\n",
    "    driver.find_element(By.ID, 'paginas-selecao-1-lista').send_keys(start_page)\n",
    "    driver.find_element(By.ID, 'botao-ir-para-a-pagina-lista').click()\n",
    "    sleep(7)\n",
    "    hrefs = []\n",
    "    for _ in range(start_page, end_page + 1):\n",
    "        elements = driver.find_elements(By.CLASS_NAME, 'linkRendered')\n",
    "        hrefs.extend(get_href(elements))\n",
    "        driver.find_element(By.ID, 'lista_next').click()\n",
    "        sleep(8)\n",
    "\n",
    "    driver.quit()\n",
    "\n",
    "    if results_queue:\n",
    "        results_queue.put(hrefs)\n",
    "\n",
    "\n",
    "# Execução das threads\n",
    "beneficio = 'bolsa-familia'\n",
    "start_date = '01/01/2016'\n",
    "end_date = '31/12/2016'\n",
    "municipio = 'Tanguá'\n",
    "\n",
    "num_threads = 6\n",
    "quantPaginas = getQuantPaginas()\n",
    "pages_per_thread = quantPaginas // num_threads\n",
    "\n",
    "threads = []\n",
    "results_queue = Queue()\n",
    "\n",
    "for i in range(num_threads):\n",
    "    start_page = i * pages_per_thread + 1\n",
    "    end_page = start_page + pages_per_thread - 1 if i < num_threads - 1 else quantPaginas\n",
    "    thread = threading.Thread(target=coletar_dados, args=(start_page, end_page, beneficio, start_date, end_date, municipio))\n",
    "    threads.append(thread)\n",
    "    thread.start()\n",
    "\n",
    "for thread in threads:\n",
    "    thread.join()\n",
    "\n",
    "# Recupera os resultados das threads\n",
    "hrefs = []\n",
    "while not results_queue.empty():\n",
    "    hrefs.extend(results_queue.get())\n"
   ]
  },
  {
   "attachments": {},
   "cell_type": "markdown",
   "metadata": {},
   "source": [
    "# Teste de extrair quantidade da tabela"
   ]
  },
  {
   "cell_type": "code",
   "execution_count": 15,
   "metadata": {},
   "outputs": [
    {
     "name": "stdout",
     "output_type": "stream",
     "text": [
      "[[], ['10/2021', '10/2021', 'RJ', 'TANGUÁ', '2', '147,00'], ['09/2021', '09/2021', 'RJ', 'TANGUÁ', '2', '147,00'], ['08/2021', '08/2021', 'RJ', 'TANGUÁ', '2', '147,00'], ['07/2021', '07/2021', 'RJ', 'TANGUÁ', '1', '147,00'], ['06/2021', '06/2021', 'RJ', 'TANGUÁ', '1', '147,00'], ['05/2021', '05/2021', 'RJ', 'TANGUÁ', '2', '178,00'], ['04/2021', '04/2021', 'RJ', 'TANGUÁ', '2', '178,00'], ['03/2021', '03/2021', 'RJ', 'TANGUÁ', '2', '178,00'], ['02/2021', '02/2021', 'RJ', 'TANGUÁ', '2', '178,00'], ['01/2021', '01/2021', 'RJ', 'TANGUÁ', '2', '171,00'], ['12/2020', '12/2020', 'RJ', 'TANGUÁ', '3', '219,00'], ['11/2020', '11/2020', 'RJ', 'TANGUÁ', '3', '219,00'], ['10/2020', '10/2020', 'RJ', 'TANGUÁ', '3', '219,00'], ['09/2020', '09/2020', 'RJ', 'TANGUÁ', '3', '219,00'], ['08/2020', '08/2020', 'RJ', 'TANGUÁ', '2', '178,00']]\n"
     ]
    }
   ],
   "source": [
    "driver = webdriver.Chrome()\n",
    "\n",
    "driver.get('https://portaldatransparencia.gov.br/beneficios/bolsa-familia/293703902?ordenarPor=mesReferencia&direcao=desc')\n",
    "sleep(3)\n",
    "# Localize a tabela\n",
    "tabela = driver.find_element(By.ID, 'tabelaDetalheValoresRecebidos')\n",
    "\n",
    "# Obtenha todas as linhas da tabela\n",
    "linhas = tabela.find_elements(By.TAG_NAME, 'tr')\n",
    "\n",
    "\n",
    "dados = []\n",
    "\n",
    "# Itere sobre as linhas\n",
    "for linha in linhas:\n",
    "    # Obtenha todas as células da linha\n",
    "    celulas = linha.find_elements(By.TAG_NAME, 'td')\n",
    "    \n",
    "    # Extraia os dados das células\n",
    "    dados_linha = [celula.text for celula in celulas]\n",
    "    \n",
    "    # Armazene os dados\n",
    "    dados.append(dados_linha)\n",
    "\n",
    "# Feche o navegador\n",
    "# driver.quit()\n",
    "\n",
    "# Faça algo com os dados coletados\n",
    "print(dados)\n"
   ]
  },
  {
   "cell_type": "code",
   "execution_count": 16,
   "metadata": {},
   "outputs": [
    {
     "data": {
      "text/plain": [
       "[[],\n",
       " ['10/2021', '10/2021', 'RJ', 'TANGUÁ', '2', '147,00'],\n",
       " ['09/2021', '09/2021', 'RJ', 'TANGUÁ', '2', '147,00'],\n",
       " ['08/2021', '08/2021', 'RJ', 'TANGUÁ', '2', '147,00'],\n",
       " ['07/2021', '07/2021', 'RJ', 'TANGUÁ', '1', '147,00'],\n",
       " ['06/2021', '06/2021', 'RJ', 'TANGUÁ', '1', '147,00'],\n",
       " ['05/2021', '05/2021', 'RJ', 'TANGUÁ', '2', '178,00'],\n",
       " ['04/2021', '04/2021', 'RJ', 'TANGUÁ', '2', '178,00'],\n",
       " ['03/2021', '03/2021', 'RJ', 'TANGUÁ', '2', '178,00'],\n",
       " ['02/2021', '02/2021', 'RJ', 'TANGUÁ', '2', '178,00'],\n",
       " ['01/2021', '01/2021', 'RJ', 'TANGUÁ', '2', '171,00'],\n",
       " ['12/2020', '12/2020', 'RJ', 'TANGUÁ', '3', '219,00'],\n",
       " ['11/2020', '11/2020', 'RJ', 'TANGUÁ', '3', '219,00'],\n",
       " ['10/2020', '10/2020', 'RJ', 'TANGUÁ', '3', '219,00'],\n",
       " ['09/2020', '09/2020', 'RJ', 'TANGUÁ', '3', '219,00'],\n",
       " ['08/2020', '08/2020', 'RJ', 'TANGUÁ', '2', '178,00']]"
      ]
     },
     "execution_count": 16,
     "metadata": {},
     "output_type": "execute_result"
    }
   ],
   "source": [
    "dados"
   ]
  },
  {
   "cell_type": "code",
   "execution_count": 14,
   "metadata": {},
   "outputs": [
    {
     "data": {
      "text/plain": [
       "16"
      ]
     },
     "execution_count": 14,
     "metadata": {},
     "output_type": "execute_result"
    }
   ],
   "source": [
    "len(linhas)"
   ]
  },
  {
   "attachments": {},
   "cell_type": "markdown",
   "metadata": {},
   "source": [
    "# Tratamento"
   ]
  },
  {
   "cell_type": "code",
   "execution_count": 31,
   "metadata": {},
   "outputs": [],
   "source": [
    "df = pd.read_csv('2016-1.csv')\n",
    "df.reset_index(drop=True, inplace=True)\n",
    "df.drop_duplicates(inplace=True)\n",
    "df.reset_index(drop=True,inplace=True)\n",
    "df.to_csv('bolsa-familia-2016.csv')"
   ]
  }
 ],
 "metadata": {
  "kernelspec": {
   "display_name": "Python 3",
   "language": "python",
   "name": "python3"
  },
  "language_info": {
   "codemirror_mode": {
    "name": "ipython",
    "version": 3
   },
   "file_extension": ".py",
   "mimetype": "text/x-python",
   "name": "python",
   "nbconvert_exporter": "python",
   "pygments_lexer": "ipython3",
   "version": "3.9.4"
  },
  "orig_nbformat": 4
 },
 "nbformat": 4,
 "nbformat_minor": 2
}
