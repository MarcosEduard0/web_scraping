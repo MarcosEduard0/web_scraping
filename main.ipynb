{
 "cells": [
  {
   "cell_type": "code",
   "execution_count": 1,
   "metadata": {},
   "outputs": [],
   "source": [
    "from selenium import webdriver\n",
    "from selenium.webdriver.common.by import By\n",
    "from selenium.webdriver.support import expected_conditions as EC\n",
    "from selenium.webdriver.support.wait import WebDriverWait\n",
    "from selenium.webdriver.support.ui import Select\n",
    "from time import sleep\n",
    "from urllib.parse import quote\n",
    "import threading\n",
    "from queue import Queue\n",
    "import pandas as pd\n",
    "import os\n",
    "from selenium.webdriver.common.action_chains import ActionChains"
   ]
  },
  {
   "cell_type": "code",
   "execution_count": 2,
   "metadata": {},
   "outputs": [],
   "source": [
    "# Função para pegar os links do botão detalhar\n",
    "def get_href(elements):\n",
    "    hrefs = []\n",
    "    for elemento in elements:\n",
    "        href = elemento.get_attribute('href')\n",
    "        hrefs.append(href)\n",
    "\n",
    "    return hrefs\n",
    "\n",
    "# Função para acessar o portal com os parametros desejados\n",
    "def consultar(navegador, beneficio, start_date, end_date, municipio = 'Tanguá'):\n",
    "    municipio = quote(municipio)\n",
    "    navegador.get(f'https://portaldatransparencia.gov.br/beneficios/{beneficio}?de={start_date}&ate={end_date}&nomeMunicipio={municipio}&ordenarPor=nis&direcao=asc')\n",
    "\n",
    "# Função para verificar se o número da página é maior que o valor anteriormente armazenado\n",
    "def page_number_greater(driver, previous_page, id = 'lista_info'):\n",
    "    page_text = driver.find_element(By.ID, id).text\n",
    "    current_page = int(page_text.split()[1])\n",
    "    return current_page > previous_page"
   ]
  },
  {
   "cell_type": "code",
   "execution_count": null,
   "metadata": {},
   "outputs": [],
   "source": [
    "beneficio = 'bolsa-familia'\n",
    "start_date = '01/01/2020'\n",
    "end_date = '31/12/2020'\n",
    "municipio = 'Tanguá'\n",
    "\n",
    "# Iniciando drive do Chorme\n",
    "driver = webdriver.Chrome()\n",
    "\n",
    "# inicia a pagiana e espera 5 segundos para os dados serem carregados\n",
    "consultar(driver, beneficio, start_date, end_date, municipio)\n",
    "sleep(5)\n",
    "\n",
    "# Clica no botão de ver paginação completa\n",
    "driver.find_element(By.CLASS_NAME, 'botao__gera_paginacao_completa').click()\n",
    "sleep(5)\n",
    "\n",
    "# Seleciona a opção de 50 individuos por páginas\n",
    "elemento_dropdown  = driver.find_element(By.NAME, 'lista_length')\n",
    "Select(elemento_dropdown).select_by_value('50')\n",
    "sleep(5)\n",
    "\n",
    "# Verifica quantas paginas no total\n",
    "quantPaginas = int(driver.find_element(By.ID, 'lista_info').text.split()[-1])\n",
    "\n",
    "# Crie uma lista para armazenar os valores de atributo href\n",
    "hrefs = []\n",
    "previous_page = 1\n",
    "for _ in range(quantPaginas):\n",
    "    # Busca os lnkes do detalhar\n",
    "    elements = driver.find_elements(By.CLASS_NAME, 'linkRendered')\n",
    "\n",
    "    # Tenta obeter o link, caso a requisição demore para responder, espere mais 5 segundos\n",
    "    try:\n",
    "        link = get_href(elements)\n",
    "    except:\n",
    "        sleep(5)\n",
    "        elements = driver.find_elements(By.CLASS_NAME, 'linkRendered')\n",
    "        link = get_href(elements)\n",
    "\n",
    "\n",
    "    # Adiciona na lista de links\n",
    "    hrefs.extend(link)\n",
    "    if previous_page != quantPaginas:\n",
    "        # Clica no botão proximo  \n",
    "        driver.find_element(By.ID, 'lista_next').click()\n",
    "\n",
    "        # Aguardar a mudança de página\n",
    "        WebDriverWait(driver, 10).until(lambda driver: page_number_greater(driver, previous_page))\n",
    "        previous_page += 1\n",
    "\n",
    "driver.quit()"
   ]
  },
  {
   "attachments": {},
   "cell_type": "markdown",
   "metadata": {},
   "source": [
    "## Transformando links em csv"
   ]
  },
  {
   "cell_type": "code",
   "execution_count": 39,
   "metadata": {},
   "outputs": [],
   "source": [
    "df = pd.DataFrame(hrefs, columns=['Detalhes_link'])"
   ]
  },
  {
   "cell_type": "code",
   "execution_count": 40,
   "metadata": {},
   "outputs": [],
   "source": [
    "ano = start_date.split('/')[-1]\n",
    "\n",
    "df.to_csv(f'{start_date}.csv')"
   ]
  },
  {
   "cell_type": "code",
   "execution_count": 105,
   "metadata": {},
   "outputs": [],
   "source": [
    "df = pd.read_csv('2017.csv')\n",
    "df.drop('Unnamed: 0', axis=1, inplace=True)\n",
    "df.drop_duplicates(inplace=True)\n",
    "df.reset_index(drop=True, inplace=True)\n",
    "df.to_csv('bolsa-familia-2017.csv')"
   ]
  },
  {
   "cell_type": "code",
   "execution_count": 176,
   "metadata": {},
   "outputs": [],
   "source": [
    "# Lista para armazenar os dados dos arquivos CSV\n",
    "dados_csv = []\n",
    "\n",
    "# Percorra todos os arquivos na pasta\n",
    "for nome_arquivo in os.listdir('Dados/'):\n",
    "    if nome_arquivo.endswith('.csv'):\n",
    "        # Construa o caminho completo para cada arquivo CSV\n",
    "        caminho_arquivo = os.path.join('Dados/', nome_arquivo)\n",
    "        \n",
    "        # Leia o arquivo CSV e adicione os dados à lista\n",
    "        df = pd.read_csv(caminho_arquivo)\n",
    "        dados_csv.append(df)\n",
    "\n",
    "# Concatene todos os DataFrames em um único DataFrame\n",
    "dados_completos = pd.concat(dados_csv)"
   ]
  },
  {
   "cell_type": "code",
   "execution_count": 177,
   "metadata": {},
   "outputs": [],
   "source": [
    "dados_completos.drop('Unnamed: 0', axis=1, inplace=True)\n",
    "dados_completos.drop_duplicates(inplace=True)\n",
    "dados_completos.reset_index(drop=True, inplace=True)\n",
    "dados_completos.to_csv('Dados/bolsa-familia.csv', index=False)"
   ]
  },
  {
   "attachments": {},
   "cell_type": "markdown",
   "metadata": {},
   "source": [
    "# Teste de extrair quantidade da tabela"
   ]
  },
  {
   "cell_type": "code",
   "execution_count": 20,
   "metadata": {},
   "outputs": [],
   "source": [
    "driver = webdriver.Chrome()\n",
    "driver.get('https://portaldatransparencia.gov.br/beneficios/bolsa-familia/301738618?ordenarPor=mesReferencia&direcao=desc')\n",
    "sleep(3)\n",
    "user_data = driver.find_element(By.CLASS_NAME, 'dados-tabelados').find_element(By.CLASS_NAME, 'row').find_elements(By.TAG_NAME, 'div')[-1]\n",
    "name = user_data.get_attribute(\"innerHTML\").split()[-1]\n"
   ]
  },
  {
   "cell_type": "code",
   "execution_count": 37,
   "metadata": {},
   "outputs": [],
   "source": [
    "df = pd.read_csv('Dados/bolsa-familia.csv')\n",
    "link_list = df.values.tolist()"
   ]
  },
  {
   "cell_type": "code",
   "execution_count": 72,
   "metadata": {},
   "outputs": [
    {
     "name": "stdout",
     "output_type": "stream",
     "text": [
      "peguei\n"
     ]
    },
    {
     "ename": "KeyboardInterrupt",
     "evalue": "",
     "output_type": "error",
     "traceback": [
      "\u001b[1;31m---------------------------------------------------------------------------\u001b[0m",
      "\u001b[1;31mKeyboardInterrupt\u001b[0m                         Traceback (most recent call last)",
      "\u001b[1;32mC:\\Users\\MARCOS~1\\AppData\\Local\\Temp/ipykernel_11012/4267551185.py\u001b[0m in \u001b[0;36m<module>\u001b[1;34m\u001b[0m\n\u001b[0;32m     30\u001b[0m     \u001b[0mtabela\u001b[0m \u001b[1;33m=\u001b[0m \u001b[0mdriver\u001b[0m\u001b[1;33m.\u001b[0m\u001b[0mfind_element\u001b[0m\u001b[1;33m(\u001b[0m\u001b[0mBy\u001b[0m\u001b[1;33m.\u001b[0m\u001b[0mID\u001b[0m\u001b[1;33m,\u001b[0m \u001b[1;34m'tabelaDetalheValoresRecebidos_wrapper'\u001b[0m\u001b[1;33m)\u001b[0m\u001b[1;33m\u001b[0m\u001b[1;33m\u001b[0m\u001b[0m\n\u001b[0;32m     31\u001b[0m     \u001b[0mtabela\u001b[0m\u001b[1;33m.\u001b[0m\u001b[0mfind_element\u001b[0m\u001b[1;33m(\u001b[0m\u001b[0mBy\u001b[0m\u001b[1;33m.\u001b[0m\u001b[0mCLASS_NAME\u001b[0m\u001b[1;33m,\u001b[0m \u001b[1;34m'botao__gera_paginacao_completa'\u001b[0m\u001b[1;33m)\u001b[0m\u001b[1;33m.\u001b[0m\u001b[0mclick\u001b[0m\u001b[1;33m(\u001b[0m\u001b[1;33m)\u001b[0m\u001b[1;33m\u001b[0m\u001b[1;33m\u001b[0m\u001b[0m\n\u001b[1;32m---> 32\u001b[1;33m     \u001b[0msleep\u001b[0m\u001b[1;33m(\u001b[0m\u001b[1;36m5\u001b[0m\u001b[1;33m)\u001b[0m\u001b[1;33m\u001b[0m\u001b[1;33m\u001b[0m\u001b[0m\n\u001b[0m\u001b[0;32m     33\u001b[0m \u001b[1;33m\u001b[0m\u001b[0m\n\u001b[0;32m     34\u001b[0m     \u001b[1;31m# Seleciona a opção de 50 individuos por páginas\u001b[0m\u001b[1;33m\u001b[0m\u001b[1;33m\u001b[0m\u001b[1;33m\u001b[0m\u001b[0m\n",
      "\u001b[1;31mKeyboardInterrupt\u001b[0m: "
     ]
    }
   ],
   "source": [
    "driver = webdriver.Chrome()\n",
    "driver.maximize_window()\n",
    "error_link = []\n",
    "dados = []\n",
    "\n",
    "# Percorre cada link\n",
    "for link in link_list:\n",
    "    driver.get(link[0])\n",
    "    sleep(3)\n",
    "\n",
    "    # Localize o NIS\n",
    "    try:\n",
    "        user_data = driver.find_element(By.CLASS_NAME, 'dados-tabelados').find_element(By.CLASS_NAME, 'row').find_elements(By.TAG_NAME, 'div')[-1]\n",
    "    except:\n",
    "        error_link.append(link[0])  # Pegua o link que deu erro\n",
    "        driver.quit()               # Finaliza a instancia do chorme\n",
    "        sleep(60)                   # Aguarda caso seja bloqueio do sistema\n",
    "        driver = webdriver.Chrome() # Cria uma nova instancia\n",
    "        driver.maximize_window()    # Maximiza a tela\n",
    "        driver.get(link[0])         # Acessa o link\n",
    "        sleep(3)                    # Aguarda pagina carregar\n",
    "        user_data = driver.find_element(By.CLASS_NAME, 'dados-tabelados').find_element(By.CLASS_NAME, 'row').find_elements(By.TAG_NAME, 'div')[-1]\n",
    "\n",
    "    nis = user_data.get_attribute(\"innerHTML\").split()[-1]\n",
    "\n",
    "    # Localize a tabela geral\n",
    "    tabela = driver.find_element(By.ID, 'tabelaDetalheValoresRecebidos_wrapper')\n",
    "    tabela.find_element(By.CLASS_NAME, 'botao__gera_paginacao_completa').click()\n",
    "    sleep(5)\n",
    "\n",
    "    # Seleciona a opção de 50 individuos por páginas\n",
    "    elemento_dropdown  = driver.find_element(By.NAME, 'tabelaDetalheValoresRecebidos_length')\n",
    "    Select(elemento_dropdown).select_by_value('50')\n",
    "    sleep(5)\n",
    "\n",
    "    # Verifica quantas paginas no total\n",
    "    quantPaginas = int(driver.find_element(By.ID, 'tabelaDetalheValoresRecebidos_info').text.split()[-1])\n",
    "    \n",
    "    # Pega a tabela principal\n",
    "    tabela = driver.find_element(By.ID, 'tabelaDetalheValoresRecebidos')\n",
    "    \n",
    "    previous_page = 1\n",
    "    for _ in range(quantPaginas):\n",
    "\n",
    "        # Gambiarra para tirar o mouse de tootip em cima dos dados\n",
    "        driver.find_element(By.ID, 'tabelaDetalheValoresRecebidos_info').click()\n",
    "        sleep(0.1)\n",
    "\n",
    "        # Obtenha todas as linhas da tabela\n",
    "        linhas = tabela.find_elements(By.TAG_NAME, 'tr')[1:]\n",
    "\n",
    "        # Itere sobre as linhas\n",
    "        for linha in linhas:\n",
    "            # Obtenha todas as células da linha\n",
    "            celulas = linha.find_elements(By.TAG_NAME, 'td')\n",
    "            \n",
    "            # Extraia os dados das células\n",
    "            dados_linha = [celula.text for celula in celulas]\n",
    "\n",
    "            # Adicionando o nis\n",
    "            dados_linha.append(nis)\n",
    "\n",
    "            # Armazene os dados\n",
    "            dados.append(dados_linha)\n",
    "\n",
    "        if previous_page != quantPaginas:\n",
    "            # Clica no botão proximo  \n",
    "            driver.find_element(By.ID, 'tabelaDetalheValoresRecebidos_next').click()\n",
    "\n",
    "            # Aguardar a mudança de página\n",
    "            WebDriverWait(driver, 10).until(lambda driver: page_number_greater(driver, previous_page, 'tabelaDetalheValoresRecebidos_info'))\n",
    "            previous_page += 1\n",
    "        \n",
    "# Feche o navegador\n",
    "driver.quit()"
   ]
  },
  {
   "cell_type": "code",
   "execution_count": 68,
   "metadata": {},
   "outputs": [],
   "source": [
    "# Começar partir daqui\n",
    "linha = df[df['Detalhes_link'] == 'https://portaldatransparencia.gov.br/beneficios/bolsa-familia/299403958'].index[0]"
   ]
  },
  {
   "cell_type": "code",
   "execution_count": 73,
   "metadata": {},
   "outputs": [
    {
     "data": {
      "text/plain": [
       "0.11730057219791316"
      ]
     },
     "execution_count": 73,
     "metadata": {},
     "output_type": "execute_result"
    }
   ],
   "source": [
    "linha/len(link_list)"
   ]
  },
  {
   "cell_type": "code",
   "execution_count": null,
   "metadata": {},
   "outputs": [],
   "source": [
    "link_list[linha:]"
   ]
  },
  {
   "cell_type": "code",
   "execution_count": 50,
   "metadata": {},
   "outputs": [],
   "source": [
    "header = ['Mes Folha', 'Mes Referência', 'UF', 'Municipio', 'Quantidade Dependentes', 'Valor', 'NIS']\n",
    "pd.DataFrame(dados, columns=header).to_csv('Dados/detalhes-bolsa-familia.csv')"
   ]
  },
  {
   "attachments": {},
   "cell_type": "markdown",
   "metadata": {},
   "source": [
    "# Testando Threads"
   ]
  },
  {
   "cell_type": "code",
   "execution_count": null,
   "metadata": {},
   "outputs": [],
   "source": [
    "def getQuantPaginas():\n",
    "    driver = webdriver.Chrome()\n",
    "    consultar(driver,'bolsa-familia', '01/01/2016', '31/12/2016', 'Tanguá')\n",
    "    # inicia a pagian e espera 10 segundos para os dados carregarem\n",
    "    sleep(5)\n",
    "\n",
    "    # Clica no botão de ver paginação completa\n",
    "    # driver.find_element(By.XPATH, '//*[@id=\"lista_wrapper\"]/div/div[3]/div[3]/button').click()\n",
    "    driver.find_element(By.CLASS_NAME, 'botao__gera_paginacao_completa').click()\n",
    "\n",
    "\n",
    "\n",
    "    # Clica no select para aumentar o numero de dados na pagina\n",
    "    elemento_dropdown  = driver.find_element(By.XPATH, '//*[@id=\"lista_length\"]/label/select')\n",
    "    Select(elemento_dropdown).select_by_value('50')\n",
    "\n",
    "    sleep(5)\n",
    "    # Verifica quantas paginas possuem\n",
    "    quantPaginas = driver.find_element(By.XPATH, '//*[@id=\"lista_info\"]').text.split()[-1]\n",
    "    driver.quit()\n",
    "    return int(quantPaginas)"
   ]
  },
  {
   "cell_type": "code",
   "execution_count": null,
   "metadata": {},
   "outputs": [],
   "source": [
    "# Função que será executada em cada thread\n",
    "def coletar_dados(start_page, end_page, beneficio, start_date, end_date, municipio='Tanguá'):\n",
    "    driver = webdriver.Chrome()\n",
    "    driver.execute_script(\"window.open('about:blank', 'new_tab');\")\n",
    "    driver.switch_to.window(driver.window_handles[-1])\n",
    "    consultar(driver, beneficio, start_date, end_date, municipio)\n",
    "    \n",
    "    try:\n",
    "        element = WebDriverWait(driver, 10).until(\n",
    "            EC.presence_of_element_located((By.CLASS_NAME, 'botao__gera_paginacao_completa'))\n",
    "        )\n",
    "    finally:\n",
    "        driver.find_element(By.CLASS_NAME, 'botao__gera_paginacao_completa').click()\n",
    "\n",
    "    sleep(5)\n",
    "    elemento_dropdown = driver.find_element(By.XPATH, '//*[@id=\"lista_length\"]/label/select')\n",
    "    Select(elemento_dropdown).select_by_value('50')\n",
    "\n",
    "    sleep(6)\n",
    "    driver.find_element(By.ID, 'paginas-selecao-1-lista').send_keys(start_page)\n",
    "    driver.find_element(By.ID, 'botao-ir-para-a-pagina-lista').click()\n",
    "    sleep(7)\n",
    "    hrefs = []\n",
    "    for _ in range(start_page, end_page + 1):\n",
    "        elements = driver.find_elements(By.CLASS_NAME, 'linkRendered')\n",
    "        hrefs.extend(get_href(elements))\n",
    "        driver.find_element(By.ID, 'lista_next').click()\n",
    "        sleep(10)\n",
    "\n",
    "    driver.quit()\n",
    "\n",
    "    if results_queue:\n",
    "        results_queue.put(hrefs)\n",
    "\n",
    "\n",
    "# Execução das threads\n",
    "beneficio = 'bolsa-familia'\n",
    "start_date = '01/01/2018'\n",
    "end_date = '31/12/2018'\n",
    "municipio = 'Tanguá'\n",
    "\n",
    "num_threads = 6\n",
    "quantPaginas = getQuantPaginas()\n",
    "pages_per_thread = quantPaginas // num_threads\n",
    "\n",
    "threads = []\n",
    "results_queue = Queue()\n",
    "\n",
    "for i in range(num_threads):\n",
    "    start_page = i * pages_per_thread + 1\n",
    "    end_page = start_page + pages_per_thread - 1 if i < num_threads - 1 else quantPaginas\n",
    "    thread = threading.Thread(target=coletar_dados, args=(start_page, end_page, beneficio, start_date, end_date, municipio))\n",
    "    threads.append(thread)\n",
    "    thread.start()\n",
    "\n",
    "for thread in threads:\n",
    "    thread.join()\n",
    "\n",
    "# Recupera os resultados das threads\n",
    "hrefs = []\n",
    "while not results_queue.empty():\n",
    "    hrefs.extend(results_queue.get())\n"
   ]
  }
 ],
 "metadata": {
  "kernelspec": {
   "display_name": "Python 3",
   "language": "python",
   "name": "python3"
  },
  "language_info": {
   "codemirror_mode": {
    "name": "ipython",
    "version": 3
   },
   "file_extension": ".py",
   "mimetype": "text/x-python",
   "name": "python",
   "nbconvert_exporter": "python",
   "pygments_lexer": "ipython3",
   "version": "3.9.4"
  },
  "orig_nbformat": 4
 },
 "nbformat": 4,
 "nbformat_minor": 2
}
