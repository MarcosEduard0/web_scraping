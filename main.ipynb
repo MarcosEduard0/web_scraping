{
 "cells": [
  {
   "cell_type": "code",
   "execution_count": 146,
   "metadata": {},
   "outputs": [],
   "source": [
    "from selenium import webdriver\n",
    "from selenium.webdriver.common.by import By\n",
    "from selenium.webdriver.support import expected_conditions as EC\n",
    "from selenium.webdriver.support.wait import WebDriverWait\n",
    "from selenium.webdriver.support.ui import Select\n",
    "from time import sleep\n",
    "from urllib.parse import quote"
   ]
  },
  {
   "cell_type": "code",
   "execution_count": 137,
   "metadata": {},
   "outputs": [],
   "source": [
    "driver = webdriver.Chrome()\n",
    "driver.get('https://portaldatransparencia.gov.br/beneficios/bpc?de=01/12/2021&ate=31/12/2021&nomeMunicipio=Tangu%C3%A1&ordenarPor=nis&direcao=asc')\n",
    "\n",
    "\n",
    "# inicia a pagian e espera 10 segundos para os dados carregarem\n",
    "sleep(4)\n",
    "\n",
    "teste = driver.find_elements(By.CLASS_NAME, 'linkRendered')\n",
    "teste[0].get_attribute('href')\n",
    "hrefs = []\n",
    "\n",
    "for elemento in teste:\n",
    "    href = elemento.get_attribute('href')\n",
    "    hrefs.append(href)\n",
    "\n",
    "driver.quit()\n"
   ]
  },
  {
   "cell_type": "code",
   "execution_count": 149,
   "metadata": {},
   "outputs": [],
   "source": [
    "def get_href(elements):\n",
    "    href = []\n",
    "    for elemento in elements:\n",
    "        href = elemento.get_attribute('href')\n",
    "        hrefs.append(href)\n",
    "    return href\n",
    "\n",
    "def consultar_BPC(navegador, start_date, end_date, municipio = 'Tanguá'):\n",
    "    municipio = quote(municipio)\n",
    "    navegador.get(f'https://portaldatransparencia.gov.br/beneficios/bpc?de={start_date}&ate={end_date}&nomeMunicipio={municipio}&ordenarPor=nis&direcao=asc')\n"
   ]
  },
  {
   "cell_type": "code",
   "execution_count": 150,
   "metadata": {},
   "outputs": [],
   "source": [
    "driver = webdriver.Chrome()\n",
    "consultar_BPC(driver, '01/12/2021', '31/12/2021', 'Tanguá')\n",
    "# inicia a pagian e espera 10 segundos para os dados carregarem\n",
    "sleep(5)\n",
    "\n",
    "# Clica no botão de ver paginação completa\n",
    "driver.find_element(By.XPATH, '//*[@id=\"lista_wrapper\"]/div/div[3]/div[3]/button').click()\n",
    "\n",
    "# Clica no select para aumentar o numero de dados na pagina\n",
    "elemento_dropdown  = driver.find_element(By.XPATH, '//*[@id=\"lista_length\"]/label/select')\n",
    "Select(elemento_dropdown).select_by_value('50')\n",
    "\n",
    "sleep(5)\n",
    "# Verifica quantas paginas possuem\n",
    "quantPaginas = driver.find_element(By.XPATH, '//*[@id=\"lista_info\"]').text.split()[-1]\n",
    "\n",
    "# Crie uma lista para armazenar os valores de atributo href\n",
    "hrefs = []\n",
    "\n",
    "for i in range(int(quantPaginas)):\n",
    "    # Busca os lnks detalhar\n",
    "    elements = driver.find_elements(By.CLASS_NAME, 'linkRendered')\n",
    "\n",
    "    # Itere sobre cada elemento e obtenha o valor do atributo href\n",
    "    href+=get_href(elements)\n",
    "\n",
    "    # Clica no botão proximo  \n",
    "    driver.find_element(By.XPATH, '//*[@id=\"lista_next\"]/a').click()\n",
    "    sleep(3)\n",
    "\n",
    "driver.quit()"
   ]
  },
  {
   "cell_type": "code",
   "execution_count": null,
   "metadata": {},
   "outputs": [],
   "source": []
  }
 ],
 "metadata": {
  "kernelspec": {
   "display_name": "Python 3",
   "language": "python",
   "name": "python3"
  },
  "language_info": {
   "codemirror_mode": {
    "name": "ipython",
    "version": 3
   },
   "file_extension": ".py",
   "mimetype": "text/x-python",
   "name": "python",
   "nbconvert_exporter": "python",
   "pygments_lexer": "ipython3",
   "version": "3.9.4"
  },
  "orig_nbformat": 4
 },
 "nbformat": 4,
 "nbformat_minor": 2
}
