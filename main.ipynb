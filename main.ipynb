{
 "cells": [
  {
   "cell_type": "code",
   "execution_count": 1,
   "metadata": {},
   "outputs": [],
   "source": [
    "from selenium import webdriver\n",
    "from selenium.webdriver.common.by import By\n",
    "from selenium.webdriver.support import expected_conditions as EC\n",
    "from selenium.webdriver.support.wait import WebDriverWait\n",
    "from selenium.webdriver.support.ui import Select\n",
    "from time import sleep\n",
    "from urllib.parse import quote\n",
    "import pandas as pd"
   ]
  },
  {
   "cell_type": "code",
   "execution_count": 5,
   "metadata": {},
   "outputs": [],
   "source": [
    "def get_href(elements):\n",
    "    hrefs = []\n",
    "    for elemento in elements:\n",
    "        href = elemento.get_attribute('href')\n",
    "        hrefs.append(href)\n",
    "\n",
    "    return hrefs\n",
    "\n",
    "def consultar(navegador, beneficio, start_date, end_date, municipio = 'Tanguá'):\n",
    "    municipio = quote(municipio)\n",
    "    navegador.get(f'https://portaldatransparencia.gov.br/beneficios/{beneficio}?de={start_date}&ate={end_date}&nomeMunicipio={municipio}&ordenarPor=nis&direcao=asc')\n",
    "\n",
    "def consultar_Bolsa_Familia(navegador, beneficio, start_date, end_date, municipio = 'Tanguá'):\n",
    "    # start_date = quote(start_date, safe='')\n",
    "    # end_date = quote(end_date, safe='')\n",
    "    municipio = quote(municipio)\n",
    "    return f'https://portaldatransparencia.gov.br/beneficios/{beneficio}?de={start_date}&ate={end_date}&tipoBeneficio=1&nomeMunicipio={municipio}&ordenarPor=nis&direcao=asc'\n"
   ]
  },
  {
   "cell_type": "code",
   "execution_count": 6,
   "metadata": {},
   "outputs": [],
   "source": [
    "driver = webdriver.Chrome()\n",
    "consultar(driver,'bolsa-familia', '01/01/2016', '31/12/2016', 'Tanguá')\n",
    "# inicia a pagian e espera 10 segundos para os dados carregarem\n",
    "sleep(5)\n",
    "\n",
    "# Clica no botão de ver paginação completa\n",
    "# driver.find_element(By.XPATH, '//*[@id=\"lista_wrapper\"]/div/div[3]/div[3]/button').click()\n",
    "driver.find_element(By.CLASS_NAME, 'botao__gera_paginacao_completa').click()\n",
    "\n",
    "\n",
    "\n",
    "# Clica no select para aumentar o numero de dados na pagina\n",
    "elemento_dropdown  = driver.find_element(By.XPATH, '//*[@id=\"lista_length\"]/label/select')\n",
    "Select(elemento_dropdown).select_by_value('50')\n",
    "\n",
    "sleep(5)\n",
    "# Verifica quantas paginas possuem\n",
    "quantPaginas = driver.find_element(By.XPATH, '//*[@id=\"lista_info\"]').text.split()[-1]\n",
    "\n",
    "# Crie uma lista para armazenar os valores de atributo href\n",
    "hrefs = []\n",
    "\n",
    "# for i in range(int(quantPaginas)):\n",
    "for i in range(2):\n",
    "    # Busca os lnks detalhar\n",
    "    elements = driver.find_elements(By.CLASS_NAME, 'linkRendered')\n",
    "\n",
    "    # Itere sobre cada elemento e obtenha o valor do atributo href\n",
    "    hrefs.extend(get_href(elements))\n",
    "\n",
    "    # Clica no botão proximo  \n",
    "    driver.find_element(By.ID, 'lista_next').click()\n",
    "\n",
    "    \n",
    "    sleep(7)\n",
    "\n",
    "driver.quit()"
   ]
  },
  {
   "cell_type": "code",
   "execution_count": 43,
   "metadata": {},
   "outputs": [
    {
     "data": {
      "text/plain": [
       "'https://portaldatransparencia.gov.br/beneficios/bolsa-familia?de=01/01/2016&ate=31/12/2016&tipoBeneficio=1&nomeMunicipio=Tangu%C3%A1&ordenarPor=nis&direcao=asc'"
      ]
     },
     "execution_count": 43,
     "metadata": {},
     "output_type": "execute_result"
    }
   ],
   "source": [
    "df = pd.DataFrame(hrefs, columns=['Detalhes_link'])"
   ]
  },
  {
   "cell_type": "code",
   "execution_count": 46,
   "metadata": {},
   "outputs": [],
   "source": [
    "df.to_csv('2016.csv')"
   ]
  }
 ],
 "metadata": {
  "kernelspec": {
   "display_name": "Python 3",
   "language": "python",
   "name": "python3"
  },
  "language_info": {
   "codemirror_mode": {
    "name": "ipython",
    "version": 3
   },
   "file_extension": ".py",
   "mimetype": "text/x-python",
   "name": "python",
   "nbconvert_exporter": "python",
   "pygments_lexer": "ipython3",
   "version": "3.9.4"
  },
  "orig_nbformat": 4
 },
 "nbformat": 4,
 "nbformat_minor": 2
}
