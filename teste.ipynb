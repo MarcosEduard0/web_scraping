{
 "cells": [
  {
   "cell_type": "code",
   "execution_count": 44,
   "metadata": {},
   "outputs": [
    {
     "name": "stdout",
     "output_type": "stream",
     "text": [
      "Data de Referência: 2016-01-01\n",
      "Município: TRAJANO DE MORAIS\n",
      "UF: RJ\n",
      "Quantidade de Beneficiados: 980\n",
      "Tipo: Bolsa Família\n",
      "Valor: 147760.0\n"
     ]
    }
   ],
   "source": [
    "import requests\n",
    "\n",
    "url = \"https://api.portaldatransparencia.gov.br/api-de-dados/bolsa-familia-por-municipio\"\n",
    "\n",
    "headers = {\"chave-api-dados\": \"07e464f446e88bb0c105f9cea69b7f45\"}\n",
    "params = {\n",
    "    \"codigoIbge\": \"3305901\",\n",
    "    \"mesAno\": \"201601\",\n",
    "    \"pagina\": \"1\"\n",
    "}\n",
    "\n",
    "response = requests.get(url, headers=headers,params=params)\n",
    "\n",
    "if response.status_code == 200:\n",
    "    data = response.json()\n",
    "    for item in data:\n",
    "        print(f\"Data de Referência: {item['dataReferencia']}\")\n",
    "        print(f\"Município: {item['municipio']['nomeIBGE']}\")\n",
    "        print(f\"UF: {item['municipio']['uf']['sigla']}\")\n",
    "        print(f\"Quantidade de Beneficiados: {item['quantidadeBeneficiados']}\")\n",
    "        print(f\"Tipo: {item['tipo']['descricao']}\")\n",
    "        print(f\"Valor: {item['valor']}\")\n",
    "elif response.status_code == 401:\n",
    "        print(\"Erro: Não autorizado\")\n",
    "elif response.status_code == 403:\n",
    "    print(\"Erro: Proibido\")\n",
    "elif response.status_code == 404:\n",
    "    print(\"Erro: Não encontrado\")\n",
    "else:\n",
    "    print(f\"Erro HTTP: {response.status_code}\")\n"
   ]
  }
 ],
 "metadata": {
  "kernelspec": {
   "display_name": "Python 3",
   "language": "python",
   "name": "python3"
  },
  "language_info": {
   "codemirror_mode": {
    "name": "ipython",
    "version": 3
   },
   "file_extension": ".py",
   "mimetype": "text/x-python",
   "name": "python",
   "nbconvert_exporter": "python",
   "pygments_lexer": "ipython3",
   "version": "3.9.4"
  },
  "orig_nbformat": 4
 },
 "nbformat": 4,
 "nbformat_minor": 2
}
